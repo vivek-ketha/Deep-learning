{
 "cells": [
  {
   "cell_type": "markdown",
   "id": "4449c0f4",
   "metadata": {},
   "source": [
    "Deep learning Q3)"
   ]
  },
  {
   "cell_type": "code",
   "execution_count": null,
   "id": "009b2739",
   "metadata": {},
   "outputs": [],
   "source": [
    "import tensorflow as tf\n",
    "from tensorflow.keras import layers\n",
    "from tensorflow.keras.datasets import mnist\n",
    "\n",
    "# Load the MNIST dataset\n",
    "(train_images, train_labels), (test_images, test_labels) = mnist.load_data()\n",
    "\n",
    "# Normalize and reshape the input data\n",
    "train_images = train_images.astype(\"float32\") / 255.0\n",
    "test_images = test_images.astype(\"float32\") / 255.0\n",
    "\n",
    "train_images = tf.expand_dims(train_images, -1)\n",
    "test_images = tf.expand_dims(test_images, -1)\n",
    "\n",
    "# Set batch size and create data loaders\n",
    "batch_size = 64\n",
    "\n",
    "train_dataset = tf.data.Dataset.from_tensor_slices((train_images, train_labels))\n",
    "train_dataset = train_dataset.shuffle(buffer_size=1024).batch(batch_size)\n",
    "\n",
    "test_dataset = tf.data.Dataset.from_tensor_slices((test_images, test_labels))\n",
    "test_dataset = test_dataset.batch(batch_size)\n",
    "\n",
    "# Define the CNN architecture\n",
    "model = tf.keras.Sequential([\n",
    "    layers.Conv2D(16, kernel_size=3, activation=\"relu\", input_shape=(28, 28, 1)),\n",
    "    layers.Conv2D(32, kernel_size=3, activation=\"relu\"),\n",
    "    layers.Flatten(),\n",
    "    layers.Dense(10, activation=\"softmax\")\n",
    "])\n",
    "\n",
    "# Compile the model\n",
    "model.compile(optimizer=\"adam\", loss=\"sparse_categorical_crossentropy\", metrics=[\"accuracy\"])\n",
    "\n",
    "# Training loop\n",
    "num_epochs = 10\n",
    "\n",
    "for epoch in range(num_epochs):\n",
    "    # Train the model\n",
    "    for batch, (images, labels) in enumerate(train_dataset):\n",
    "        model.train_on_batch(images, labels)\n",
    "\n",
    "    # Evaluate the model\n",
    "    accuracy = tf.keras.metrics.SparseCategoricalAccuracy()\n",
    "    for images, labels in test_dataset:\n",
    "        predictions = model.predict(images)\n",
    "        accuracy.update_state(labels, tf.argmax(predictions, axis=1))\n",
    "    accuracy_value = accuracy.result() * 100\n",
    "\n",
    "    print(f\"Epoch [{epoch + 1}/{num_epochs}], Validation Accuracy: {accuracy_value:.2f}%\")\n",
    "\n",
    "    # Check if minimum validation accuracy is achieved\n",
    "    if accuracy_value >= 99.4:\n",
    "        break\n"
   ]
  }
 ],
 "metadata": {
  "kernelspec": {
   "display_name": "Python 3 (ipykernel)",
   "language": "python",
   "name": "python3"
  },
  "language_info": {
   "codemirror_mode": {
    "name": "ipython",
    "version": 3
   },
   "file_extension": ".py",
   "mimetype": "text/x-python",
   "name": "python",
   "nbconvert_exporter": "python",
   "pygments_lexer": "ipython3",
   "version": "3.10.9"
  }
 },
 "nbformat": 4,
 "nbformat_minor": 5
}
