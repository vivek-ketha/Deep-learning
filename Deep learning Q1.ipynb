{
 "cells": [
  {
   "cell_type": "markdown",
   "id": "2eb3f222",
   "metadata": {},
   "source": [
    "Deep learning Q1)"
   ]
  },
  {
   "cell_type": "code",
   "execution_count": null,
   "id": "ae4df704",
   "metadata": {},
   "outputs": [],
   "source": [
    "import tensorflow as tf\n",
    "from tensorflow.keras import layers\n",
    "\n",
    "# Load the MNIST dataset\n",
    "mnist = tf.keras.datasets.mnist\n",
    "(x_train, y_train), (x_test, y_test) = mnist.load_data()\n",
    "\n",
    "# Preprocess the data\n",
    "x_train = x_train.reshape(-1, 28, 28, 1).astype(\"float32\") / 255.0\n",
    "x_test = x_test.reshape(-1, 28, 28, 1).astype(\"float32\") / 255.0\n",
    "\n",
    "# Define a function to create a CNN model\n",
    "def create_cnn_model():\n",
    "    model = tf.keras.Sequential([\n",
    "        # First convolutional layer\n",
    "        layers.Conv2D(16, (3, 3), activation=\"relu\", input_shape=(28, 28, 1)),\n",
    "        layers.MaxPooling2D((2, 2)),\n",
    "        # Second convolutional layer\n",
    "        layers.Conv2D(32, (3, 3), activation=\"relu\"),\n",
    "        layers.MaxPooling2D((2, 2)),\n",
    "        # Flatten the output\n",
    "        layers.Flatten(),\n",
    "        # Dense layers\n",
    "        layers.Dense(64, activation=\"relu\"),\n",
    "        layers.Dense(10, activation=\"softmax\")\n",
    "    ])\n",
    "    return model\n",
    "\n",
    "# Model 1: CNN with 4000 parameters\n",
    "model1 = create_cnn_model()\n",
    "model1.summary()\n",
    "\n",
    "# Compile and train the model\n",
    "model1.compile(optimizer=\"adam\", loss=\"sparse_categorical_crossentropy\", metrics=[\"accuracy\"])\n",
    "model1.fit(x_train, y_train, epochs=10, batch_size=128, verbose=2)\n",
    "\n",
    "# Evaluate the model\n",
    "_, accuracy1 = model1.evaluate(x_test, y_test, verbose=0)\n",
    "print(\"Model 1 Accuracy:\", accuracy1)\n",
    "\n",
    "# Model 2: CNN with 6000 parameters\n",
    "model2 = create_cnn_model()\n",
    "model2.add(layers.Dense(128, activation=\"relu\"))\n",
    "model2.summary()\n",
    "\n",
    "# Compile and train the model\n",
    "model2.compile(optimizer=\"adam\", loss=\"sparse_categorical_crossentropy\", metrics=[\"accuracy\"])\n",
    "model2.fit(x_train, y_train, epochs=10, batch_size=128, verbose=2)\n",
    "\n",
    "# Evaluate the model\n",
    "_, accuracy2 = model2.evaluate(x_test, y_test, verbose=0)\n",
    "print(\"Model 2 Accuracy:\", accuracy2)\n",
    "\n",
    "# Model 3: CNN with 8000 parameters\n",
    "model3 = create_cnn_model()\n",
    "model3.add(layers.Dense(128, activation=\"relu\"))\n",
    "model3.add(layers.Dense(128, activation=\"relu\"))\n",
    "model3.summary()\n",
    "\n",
    "# Compile and train the model\n",
    "model3.compile(optimizer=\"adam\", loss=\"sparse_categorical_crossentropy\", metrics=[\"accuracy\"])\n",
    "model3.fit(x_train, y_train, epochs=10, batch_size=128, verbose=2)\n",
    "\n",
    "# Evaluate the model\n",
    "_, accuracy3 = model3.evaluate(x_test, y_test, verbose=0)\n",
    "print(\"Model 3 Accuracy:\", accuracy3)\n"
   ]
  }
 ],
 "metadata": {
  "kernelspec": {
   "display_name": "Python 3 (ipykernel)",
   "language": "python",
   "name": "python3"
  },
  "language_info": {
   "codemirror_mode": {
    "name": "ipython",
    "version": 3
   },
   "file_extension": ".py",
   "mimetype": "text/x-python",
   "name": "python",
   "nbconvert_exporter": "python",
   "pygments_lexer": "ipython3",
   "version": "3.10.9"
  }
 },
 "nbformat": 4,
 "nbformat_minor": 5
}
